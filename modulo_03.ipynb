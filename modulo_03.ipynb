{
 "cells": [
  {
   "cell_type": "markdown",
   "metadata": {},
   "source": [
    "# Módulo 03 #"
   ]
  },
  {
   "cell_type": "markdown",
   "metadata": {},
   "source": [
    "Revisão de 10-11-2024"
   ]
  },
  {
   "cell_type": "markdown",
   "metadata": {},
   "source": [
    "### Programação Estruturada ###"
   ]
  },
  {
   "cell_type": "markdown",
   "metadata": {},
   "source": [
    "Em algumas linguagens de programação existe uma diferença entre procedimentos e funções, em Python podemos utilizar os dois termos pois têm o mesmo significado."
   ]
  },
  {
   "cell_type": "markdown",
   "metadata": {},
   "source": [
    "### 1. Introdução às Funções"
   ]
  },
  {
   "cell_type": "markdown",
   "metadata": {},
   "source": [
    "O que são funções - uma função é um bloco de código que só é executado quando chamado."
   ]
  },
  {
   "cell_type": "code",
   "execution_count": null,
   "metadata": {
    "dotnet_interactive": {
     "language": "csharp"
    },
    "polyglot_notebook": {
     "kernelName": "csharp"
    }
   },
   "outputs": [],
   "source": [
    "print(\"Olá\")\n",
    "\n",
    "#definir a função\n",
    "def MinhaFuncao():\n",
    "    print(\"World\")\n",
    "\n",
    "print(\"Mundo\")"
   ]
  },
  {
   "cell_type": "markdown",
   "metadata": {},
   "source": [
    "O código da função não é executado porque nunca foi **chamada**. Para chamar ou executar uma função utilizamos o nome da função com  () à frente."
   ]
  },
  {
   "cell_type": "code",
   "execution_count": null,
   "metadata": {},
   "outputs": [],
   "source": [
    "print(\"Olá\")\n",
    "\n",
    "#definir a função\n",
    "def MinhaFuncao():\n",
    "    print(\"Hello World\")\n",
    "\n",
    "print(\"Mundo\")\n",
    "#chamar a função\n",
    "MinhaFuncao()"
   ]
  },
  {
   "cell_type": "markdown",
   "metadata": {},
   "source": [
    "### Execução do código passo a passo"
   ]
  },
  {
   "cell_type": "markdown",
   "metadata": {},
   "source": [
    "Quando a função é chamada a execução do código **salta** para dentro da função até que todo o código da função é executado, de seguida a execução continua na linha seguinte onde a chamada da função tinha sido efetuada."
   ]
  },
  {
   "cell_type": "code",
   "execution_count": null,
   "metadata": {},
   "outputs": [],
   "source": [
    "print(\"Antes da função\")\n",
    "\n",
    "def FuncaoA():\n",
    "    print(\"Dentro da função\")\n",
    "\n",
    "#chama a função\n",
    "FuncaoA()\n",
    "\n",
    "print(\"Depois da função\")"
   ]
  },
  {
   "cell_type": "markdown",
   "metadata": {},
   "source": [
    "Enquanto o código da função não terminar de ser executado o resto do programa fica à espera. Quando uma função é executada é adicionada uma frame na call stack e são criadas as variáveis locais que possam existir dentro da função."
   ]
  },
  {
   "cell_type": "markdown",
   "metadata": {},
   "source": [
    "### Porquê utilizar funções?"
   ]
  },
  {
   "cell_type": "markdown",
   "metadata": {},
   "source": [
    "1. Reutilizar código: evitar repetir código\n",
    "2. Organização: criar blocos de código facilita a sua leitura e compreensão\n",
    "3. Abstração: funções fazem o que têm de fazer e não temos de saber os detalhes todos\n",
    "3. Manutenção: se é necessário alterar alguma coisa, podemos simplesmente alterar o código de uma função sem ter de alterar o resto do código"
   ]
  },
  {
   "cell_type": "markdown",
   "metadata": {},
   "source": [
    "#### Boas práticas na criação de funções em programação são essenciais para garantir a clareza, manutenibilidade e eficiência do código. \n",
    "\n",
    "1. **Nome Claro e Descritivo**: O nome de uma função deve refletir claramente o que ela faz. Evite nomes genéricos e dê preferência a nomes que descrevam a ação realizada ou o resultado retornado.\n",
    "\n",
    "2. **Funções Devem Ser Curtas e Focadas**: Uma função deve realizar uma única tarefa ou um grupo muito relacionado de tarefas. Se uma função está se tornando longa ou complexa, considere dividí-la em funções menores.\n",
    "\n",
    "3. **Parâmetros Limitados**: Tente limitar o número de parâmetros de uma função. Muitos parâmetros podem tornar a função difícil de entender e usar.\n",
    "\n",
    "4. **Evitar Efeitos Colaterais**: Uma boa função deve ser pura, ou seja, não deve ter efeitos colaterais (como alterar variáveis ​​globais ou externas). Funções puras são mais fáceis de testar e depurar.\n",
    "\n",
    "5. **Documentação**: Comente seu código e escreva uma documentação clara para suas funções. Isso deve incluir a finalidade da função, descrição dos parâmetros, o valor de retorno e quaisquer exceções ou casos especiais.\n",
    "\n",
    "6. **Consistência no Estilo de Codificação**: Siga um estilo de codificação consistente. Isso inclui convenções de nomenclatura, formatação e estruturação do código.\n",
    "\n",
    "7. **Use Tipos de Retorno e Parâmetros Explícitos**: Em linguagens que suportam tipagem, especifique os tipos de parâmetros e retorno. Isso melhora a legibilidade e reduz a probabilidade de erros.\n",
    "\n",
    "8. **Tratamento de Erros**: Certifique-se de que a função lida adequadamente com situações de erro ou entradas inválidas, possivelmente lançando exceções ou retornando valores de erro.\n",
    "\n",
    "9. **Evitar Dependências Globais**: Uma função deve, na medida do possível, evitar depender de variáveis ou recursos globais, para facilitar sua reutilização e teste.\n",
    "\n",
    "10. **Testabilidade**: Escreva funções de forma que sejam fáceis de testar. Isso geralmente significa que elas não devem ter dependências ocultas e devem ter resultados previsíveis."
   ]
  },
  {
   "cell_type": "markdown",
   "metadata": {},
   "source": [
    "### Documentar funções"
   ]
  },
  {
   "cell_type": "markdown",
   "metadata": {},
   "source": [
    "A documentação de funções em Python é geralmente feita usando docstrings. Docstrings são strings literais que aparecem como a primeira declaração em uma função, método, classe ou módulo. Elas são usadas para explicar o propósito e o funcionamento do código. Aqui estão algumas diretrizes sobre como escrever boas docstrings em Python:\n",
    "\n",
    "1. **Use Três Aspas Duplas**: Inicie e termine uma docstring com três aspas duplas (`\"\"\"`). Isso permite que a string se estenda por várias linhas.\n",
    "\n",
    "2. **Descrição Breve e Clara**: A primeira linha da docstring deve ser uma descrição concisa do propósito da função. Esta linha deve ser uma frase completa terminando com um ponto.\n",
    "\n",
    "3. **Detalhamento Opcional**: Após a linha de descrição inicial, você pode incluir um parágrafo mais detalhado explicando o comportamento da função, seus argumentos, seu valor de retorno e qualquer outra informação relevante.\n",
    "\n",
    "4. **Parâmetros e Tipos**: Liste cada parâmetro e descreva brevemente seu propósito. Se o tipo do parâmetro não é óbvio, inclua isso também.\n",
    "\n",
    "5. **Valor de Retorno**: Descreva o que a função retorna. Inclua o tipo de retorno se não for óbvio.\n",
    "\n",
    "6. **Exceções**: Documente as exceções que a função pode levantar.\n",
    "\n",
    "7. **Exemplos de Uso**: Se possível, inclua um ou mais exemplos de como usar a função. Isso pode ser particularmente útil para funções complexas ou com muitos parâmetros.\n",
    "\n",
    "8. **Consistência**: Mantenha um estilo consistente em todas as suas docstrings. Se estiver trabalhando em um projeto em equipe, siga as convenções de documentação do projeto.\n",
    "\n",
    "9. **PEP 257**: Para orientações mais detalhadas, consulte a PEP 257, que fornece convenções para **docstrings** em Python.\n",
    "\n",
    "Exemplo:"
   ]
  },
  {
   "cell_type": "code",
   "execution_count": null,
   "metadata": {},
   "outputs": [],
   "source": [
    "\n",
    "def add(a, b):\n",
    "    \"\"\"\n",
    "    Soma dois números e retorna o resultado.\n",
    "\n",
    "    Parâmetros:\n",
    "    a (int): o primeiro número a ser somado.\n",
    "    b (int): o segundo número a ser somado.\n",
    "\n",
    "    Retorna:\n",
    "    int: a soma de a e b.\n",
    "\n",
    "    Exemplo:\n",
    "    >>> add(2, 3)\n",
    "    5\n",
    "    \"\"\"\n",
    "    return a + b\n"
   ]
  },
  {
   "cell_type": "markdown",
   "metadata": {},
   "source": [
    "Este é um formato básico, e pode ser adaptado conforme necessário para suas funções específicas. A documentação clara e consistente é uma parte vital do desenvolvimento de software e ajuda a manter o código acessível e sustentável."
   ]
  },
  {
   "cell_type": "markdown",
   "metadata": {},
   "source": [
    "### 2. Definindo e chamando funções"
   ]
  },
  {
   "cell_type": "markdown",
   "metadata": {},
   "source": [
    "Para definir uma função utilizamos a palavra reservada ***def*** seguida do nome da função e :"
   ]
  },
  {
   "cell_type": "markdown",
   "metadata": {},
   "source": [
    "Por exemplo:\n",
    "def MostrarMensagem():"
   ]
  },
  {
   "cell_type": "markdown",
   "metadata": {},
   "source": [
    "O nome das funções seguem as mesmas regras que o nome das variáveis: não podem começar por um número e não podem ter espaços em branco. Cuidado com as palavras reservadas ou nomes de funções repetidos.\n",
    "O nome da função inclui sempre () - parentesis"
   ]
  },
  {
   "cell_type": "code",
   "execution_count": null,
   "metadata": {},
   "outputs": [],
   "source": [
    "def SomaDoisNumeros():\n",
    "    x = 10\n",
    "    y = 20\n",
    "    resultado = x + y\n",
    "    print(f\"A soma é {resultado}\")"
   ]
  },
  {
   "cell_type": "markdown",
   "metadata": {},
   "source": [
    "Para ***executar*** a função utilizamos o nome seguido dos parentesis:"
   ]
  },
  {
   "cell_type": "code",
   "execution_count": null,
   "metadata": {},
   "outputs": [],
   "source": [
    "SomaDoisNumeros()"
   ]
  },
  {
   "cell_type": "markdown",
   "metadata": {},
   "source": [
    "Os () - parentesis - indica que a função deve ser executada, sem os parentesis estamos a referir o objeto da função sem que esta seja executada, ou seja, é só uma referência para a função."
   ]
  },
  {
   "cell_type": "code",
   "execution_count": null,
   "metadata": {},
   "outputs": [],
   "source": [
    "SomaDoisNumeros"
   ]
  },
  {
   "cell_type": "markdown",
   "metadata": {},
   "source": [
    "Para ser possível executar uma função esta tem de ser definida primeiro, se o computador ainda não encontrou a definição da função esta não pode ser chamada"
   ]
  },
  {
   "cell_type": "code",
   "execution_count": null,
   "metadata": {},
   "outputs": [],
   "source": [
    "funcaoA()   #erro porque a função ainda não foi definida\n",
    "\n",
    "def funcaoA():\n",
    "    print(\"Dentro da função A\")"
   ]
  },
  {
   "cell_type": "markdown",
   "metadata": {},
   "source": [
    "### Função main"
   ]
  },
  {
   "cell_type": "markdown",
   "metadata": {},
   "source": [
    "Apesar de não ser obrigatório é uma boa prática definir uma função **main** no ficheiro que tem o código principal do programa. Esta função será o ponto de entrada onde o código começa a ser executado. Desta forma também podemos utilizar este ficheiro como um módulo que pode ser importado para outros projetos sem que o código seja executado inadvertidamente, o que acontece se importarmos um módulo que tem código fora das funções."
   ]
  },
  {
   "cell_type": "code",
   "execution_count": null,
   "metadata": {},
   "outputs": [],
   "source": [
    "def main():\n",
    "    # Código principal do programa\n",
    "    pass\n",
    "\n",
    "#só é executada a função main se a execução do programa começou por este ficheiro\n",
    "if __name__ == \"__main__\":\n",
    "    main()\n"
   ]
  },
  {
   "cell_type": "markdown",
   "metadata": {},
   "source": [
    "### 3. Parâmetros e argumentos"
   ]
  },
  {
   "cell_type": "markdown",
   "metadata": {},
   "source": [
    "A função ***SomaDoisNumeros()*** que definimos anteriormente não é muito útil. Porquê?"
   ]
  },
  {
   "cell_type": "markdown",
   "metadata": {},
   "source": [
    "Para ser mais útil ela devia permitir somar quaisquer dois números e não somente 10 com o 20."
   ]
  },
  {
   "cell_type": "markdown",
   "metadata": {},
   "source": [
    "Para tornar a função mais útil vamos definir dois parâmetros para podermos ***\"dar\"*** à função os números que pretendemos somar."
   ]
  },
  {
   "cell_type": "code",
   "execution_count": null,
   "metadata": {},
   "outputs": [],
   "source": [
    "\n",
    "def SomaDoisNumeros(x,y):\n",
    "    \"\"\"Função que soma dois números e mostra o resultado\n",
    "    Keyword arguments:\n",
    "    argument -- os dois números a somar\n",
    "    Return: nada\n",
    "    \"\"\"\n",
    "    #repara que os valores a somar não estão definidos dentro da função\n",
    "    resultado = x + y\n",
    "    print(f\"A soma é {resultado}\")"
   ]
  },
  {
   "cell_type": "markdown",
   "metadata": {},
   "source": [
    "Esta versão da função é diferente da anterior uma vez que ela ***não conhece*** quais são os valores que vai somar. Agora quando chamamos a função temos de passar os argumentos, ou seja, os valores para os parâmetros definidos."
   ]
  },
  {
   "cell_type": "code",
   "execution_count": null,
   "metadata": {},
   "outputs": [],
   "source": [
    "SomaDoisNumeros(10,20)"
   ]
  },
  {
   "cell_type": "code",
   "execution_count": null,
   "metadata": {},
   "outputs": [],
   "source": [
    "SomaDoisNumeros(5,12)"
   ]
  },
  {
   "cell_type": "markdown",
   "metadata": {},
   "source": [
    "Agora a função é muito mais útil porque permite somar quaisquer dois números."
   ]
  },
  {
   "cell_type": "markdown",
   "metadata": {},
   "source": [
    "Os **parâmetros** são as variáveis que ***só vão existir dentro da função*** e cujos valores são definidos no momento em que a função é chamada."
   ]
  },
  {
   "cell_type": "markdown",
   "metadata": {},
   "source": [
    "Os **argumentos** são os valores que atribuimos aos parâmetros no momento da execução da função."
   ]
  },
  {
   "cell_type": "code",
   "execution_count": null,
   "metadata": {},
   "outputs": [],
   "source": [
    "def MostraMensagem(mensagem):\n",
    "    print(mensagem)\n",
    "\n",
    "MostraMensagem(\"Olá mundo\")\n",
    "# esta linha dá erro porque a variável mensagem é um parâmetro da função MostraMensagem\n",
    "# e só existe dentro da função\n",
    "print(mensagem) "
   ]
  },
  {
   "cell_type": "markdown",
   "metadata": {},
   "source": [
    "Este conceito é MUITO IMPORTANTE: todos os parâmetros de uma função, bem como as variáveis que são definidas dentro de uma função, têm uma utilização (scope) limitado ao corpo da função. Isto significa que estas variáveis são criadas quando a função é chamada e são destruídas quando a execução da função termina."
   ]
  },
  {
   "cell_type": "markdown",
   "metadata": {},
   "source": [
    "Considerando o seguinte código:"
   ]
  },
  {
   "cell_type": "code",
   "execution_count": null,
   "metadata": {},
   "outputs": [],
   "source": [
    "def SubtraiDoisValores(x,y):\n",
    "    resultado = x - y\n",
    "    print(resultado)\n",
    "\n",
    "SubtraiDoisValores(10,5)\n"
   ]
  },
  {
   "cell_type": "markdown",
   "metadata": {},
   "source": [
    "A função **SubtraiDoisValores** tem dois parâmetros: ***x*** e ***y*** e uma variável local: ***resultado***"
   ]
  },
  {
   "cell_type": "markdown",
   "metadata": {},
   "source": [
    "Qualquer um destes parâmetros e/ou variáveis estão limitados ao corpo da função. Isto quer dizer que NÃO EXISTEM FORA DA FUNÇÃO."
   ]
  },
  {
   "cell_type": "code",
   "execution_count": null,
   "metadata": {},
   "outputs": [],
   "source": [
    "def SubtraiDoisValores(x,y):\n",
    "    resultado = x - y\n",
    "    print(resultado)\n",
    "\n",
    "SubtraiDoisValores(10,5)\n",
    "# estas linhas dão erros porque as variáveis\n",
    "# x,y e resultado só existem dentro da função SubtraiDoisValores\n",
    "# todas elas são locais\n",
    "print(x)\n",
    "print(y)\n",
    "print(resultado)"
   ]
  },
  {
   "cell_type": "markdown",
   "metadata": {},
   "source": [
    "A única diferença entre a variável resultado e as variáveis x e y (que são parâmetros) é que estes últimos têm um valor atribuido quando a função é chamada."
   ]
  },
  {
   "cell_type": "markdown",
   "metadata": {},
   "source": [
    "Os argumentos podem ser valores constantes ou variáveis."
   ]
  },
  {
   "cell_type": "code",
   "execution_count": null,
   "metadata": {},
   "outputs": [],
   "source": [
    "def SubtraiDoisValores(x,y):\n",
    "    resultado = x - y\n",
    "    print(resultado)\n",
    "\n",
    "a = 10\n",
    "b = 5\n",
    "SubtraiDoisValores(a,b)"
   ]
  },
  {
   "cell_type": "markdown",
   "metadata": {},
   "source": [
    "Assim podemos colocar a questão: o que acontece à variável que é utilizada num argumento se o valor do parâmetro for alterado dentro da função?"
   ]
  },
  {
   "cell_type": "code",
   "execution_count": null,
   "metadata": {},
   "outputs": [],
   "source": [
    "def SubtraiDoisValores(x,y):\n",
    "    resultado = x - y\n",
    "    print(resultado)\n",
    "    x = 0\n",
    "    y = 0\n",
    "\n",
    "a = 10\n",
    "b = 5\n",
    "SubtraiDoisValores(a,b)\n",
    "print(a,b)"
   ]
  },
  {
   "cell_type": "markdown",
   "metadata": {},
   "source": [
    "E a resposta é: NADA."
   ]
  },
  {
   "cell_type": "markdown",
   "metadata": {},
   "source": [
    "A razão deve-se ao facto de em Python existirem ***tipos de dados imutáveis***, como por exemplo: inteiros, strings e outros. Isto quer dizer que sempre que atribuimos um valor novo a uma destes variáveis é criada uma variável nova com o novo valor. Assim, no exemplo, a variável **a** continua com o valor 10 e ao atribuir 0 ao parâmetro **x** na realidade é criada uma nova variável **x** e não é alterado o valor original do **a**"
   ]
  },
  {
   "cell_type": "markdown",
   "metadata": {},
   "source": [
    "Para demonstrar este conceito podemos utilizar a função ***id()*** que mostra o endereço de memória de uma variável. Quando alteramos o valor da variável o endereço muda porque é criada uma variável nova."
   ]
  },
  {
   "cell_type": "code",
   "execution_count": null,
   "metadata": {},
   "outputs": [],
   "source": [
    "x = 10\n",
    "print(id(x))\n",
    "print(id(x))\n",
    "x=15\n",
    "print(id(x))"
   ]
  },
  {
   "cell_type": "markdown",
   "metadata": {},
   "source": [
    "Mas e se pretendermos <b>passar</b> um valor que é calculado dentro da função para o resto do programa? Uma solução passa por fazer com que a função **devolva** um valor."
   ]
  },
  {
   "cell_type": "code",
   "execution_count": null,
   "metadata": {},
   "outputs": [],
   "source": [
    "def Troco(pagar,dinheiro):\n",
    "    dinheiro = dinheiro-pagar #esta linha não altera o valor da variável carteira\n",
    "    print(f\"Pagou {pagar} e ficou com {dinheiro}\")\n",
    "\n",
    "carteira =100\n",
    "Troco(50,carteira)\n",
    "print(f\"Tem na carteira {carteira}\")\n"
   ]
  },
  {
   "cell_type": "markdown",
   "metadata": {},
   "source": [
    "Com a instrução **return** a função **devolve ou retorna** um valor."
   ]
  },
  {
   "cell_type": "code",
   "execution_count": null,
   "metadata": {},
   "outputs": [],
   "source": [
    "def Troco(pagar,dinheiro):\n",
    "    dinheiro = dinheiro - pagar\n",
    "    print(f\"Pagou {pagar} e ficou com {dinheiro}\")\n",
    "    #vamos devolver o valor\n",
    "    return dinheiro\n",
    "\n",
    "carteira =100\n",
    "#Vamos chamar a função e guardar o valor que retorna\n",
    "carteira=Troco(50,carteira)\n",
    "print(f\"Tem na carteira {carteira}\")"
   ]
  },
  {
   "cell_type": "markdown",
   "metadata": {},
   "source": [
    "Opcionalmente podemos indicar o <b>tipo de dados que a função vai devolver</b> na sua definição."
   ]
  },
  {
   "cell_type": "code",
   "execution_count": null,
   "metadata": {},
   "outputs": [],
   "source": [
    "def Troco(pagar,dinheiro) -> int:\n",
    "    dinheiro = dinheiro - pagar\n",
    "    print(f\"Pagou {pagar} e ficou com {dinheiro}\")\n",
    "    #vamos devolver o valor\n",
    "    return dinheiro\n",
    "\n",
    "carteira =100\n",
    "#Vamos chamar a função e guardar o valor que retorna\n",
    "carteira=Troco(50,carteira)\n",
    "print(f\"Tem na carteira {carteira}\")"
   ]
  },
  {
   "cell_type": "markdown",
   "metadata": {},
   "source": [
    "Os tipos de dados podem ser int, str, float, bool, Any, entre outros que vamos estudar mais tarde como list, dict, set e tuple"
   ]
  },
  {
   "cell_type": "markdown",
   "metadata": {},
   "source": [
    "A instrução ***return*** também permite terminar a execução do código da função, à semelhança da instrução break dentro de um ciclo."
   ]
  },
  {
   "cell_type": "code",
   "execution_count": null,
   "metadata": {},
   "outputs": [],
   "source": [
    "def Troco(pagar,dinheiro):\n",
    "    if dinheiro==0:\n",
    "        print(\"Não tem dinheiro para pagar\")\n",
    "        return None\n",
    "    dinheiro = dinheiro - pagar\n",
    "    print(f\"Pagou {pagar} e ficou com {dinheiro}\")\n",
    "    return dinheiro\n",
    "\n",
    "carteira = 100\n",
    "#Vamos chamar a função sem guardar o valor que retorna\n",
    "Troco(50,carteira)\n",
    "Troco(50,0)"
   ]
  },
  {
   "cell_type": "markdown",
   "metadata": {},
   "source": [
    "Neste exemplo a função é executada sem guardar o valor de retorno."
   ]
  },
  {
   "cell_type": "markdown",
   "metadata": {},
   "source": [
    "***Valores padrão para os parâmetros***"
   ]
  },
  {
   "cell_type": "markdown",
   "metadata": {},
   "source": [
    "É possível definir um valor padrão para um parâmetro, esse valor só será utilizado caso a função seja chamada sem um argumento para esse parâmetro."
   ]
  },
  {
   "cell_type": "code",
   "execution_count": null,
   "metadata": {},
   "outputs": [],
   "source": [
    "def Saudacao(texto=\"mundo\"):\n",
    "    print(f\"Olá, {texto}\")\n",
    "\n",
    "Saudacao()  #função chamada sem argumentos por isso texto assume o valor padrão\n",
    "Saudacao(\"Joaquim\") #neste caso o valor padrão não é utilizado"
   ]
  },
  {
   "cell_type": "markdown",
   "metadata": {},
   "source": [
    "Neste exemplo o parâmetro texto tem um valor padrão que é utilizado da primeira vez que a função é chamada porque nessa chamada não é fornecido nenhum valor, ou seja, a função foi chamada sem argumentos.\n",
    "Da segunda vez a função é chamada com o argumento \"Joaquim\" sendo esse o valor utilizado pelo parâmetro ao invés do valor padrão."
   ]
  },
  {
   "cell_type": "markdown",
   "metadata": {},
   "source": [
    "***NB:*** Quando definimos um valor padrão para um parâmetro temos de definir para todos os parâmetros que se encontram à sua direita, uma vez que o computador não conseguiria saber se o valor que era indicado era para o primeiro ou para o segundo parâmetro"
   ]
  },
  {
   "cell_type": "code",
   "execution_count": null,
   "metadata": {},
   "outputs": [],
   "source": [
    "# se definimos um valor padrão para o parâmetro x, este deve ser o parâmetro mais à direita da lista\n",
    "# ou temos de definir para todos os parâmetros que se encontram à sua direita\n",
    "def Soma(x=0,y):\n",
    "    resultado = x + y\n",
    "    print(resultado)"
   ]
  },
  {
   "cell_type": "markdown",
   "metadata": {},
   "source": [
    "***Nomear os parâmetros*** "
   ]
  },
  {
   "cell_type": "markdown",
   "metadata": {},
   "source": [
    "Ao chamar a função os argumentos são atribuídos aos parâmetros pela ordem que foram definidos, ou seja, da esquerda para a direita, no entanto podemos tornar o nosso código mais legivel se indicarmos o nome dos parâmetros e asim até podemos trocar a ordem dos parâmetros."
   ]
  },
  {
   "cell_type": "code",
   "execution_count": null,
   "metadata": {},
   "outputs": [],
   "source": [
    "def Subtrai(x,y):\n",
    "    resultado = x - y\n",
    "    print(resultado)\n",
    "\n",
    "Subtrai(10,5) #chamada da função com os valores 5 e 10 que são atribuidos aos parâmetros pela ordem\n",
    "Subtrai(y=5,x=10) #chamada da função nomeando os parâmetros e invertendo a ordem\n",
    "Subtrai(5,10)"
   ]
  },
  {
   "cell_type": "markdown",
   "metadata": {},
   "source": [
    "## Variáveis Globais"
   ]
  },
  {
   "cell_type": "markdown",
   "metadata": {},
   "source": [
    "Como já foi dito todos os parâmetros e variáveis declaradas dentro das funções são consideradas variáveis locais, ou seja, a sua utilização (scope) está limitada ao corpo da função."
   ]
  },
  {
   "cell_type": "code",
   "execution_count": null,
   "metadata": {},
   "outputs": [],
   "source": [
    "def MostraValor(numero):\n",
    "    print(numero)   # a variável numero só existe dentro da função\n",
    "\n",
    "MostraValor(10)\n",
    "print(f\"Valor do número: {numero}\") #esta linha dá erro porque a variável numero não está definida"
   ]
  },
  {
   "cell_type": "markdown",
   "metadata": {},
   "source": [
    "No entanto podemos definir **variáveis globais** que é possível utilizar em qualquer parte do nosso código, dentro e fora das funções."
   ]
  },
  {
   "cell_type": "code",
   "execution_count": null,
   "metadata": {},
   "outputs": [],
   "source": [
    "numero = 10 #esta variável é global assim é possível utilizá-la em qualquer parte do nosso código\n",
    "\n",
    "def SomaDoisNumeros():\n",
    "    print(numero) # não dá erro porque a variável é global\n",
    "\n",
    "MostraValor()\n",
    "print(numero)   #variável é global"
   ]
  },
  {
   "cell_type": "markdown",
   "metadata": {},
   "source": [
    "Assim podemos cair na tentação de definir as nossas variáveis todas sempre como globais e não temos o problema de ter de controlar se a variável existe ou não em alguma parte do nosso código, mas as variáveis globais podem criar outros problemas, como se pode ver pelo código que se segue:"
   ]
  },
  {
   "cell_type": "code",
   "execution_count": null,
   "metadata": {},
   "outputs": [],
   "source": [
    "resultado = 0 #esta variável é global assim é possível utiliza-la em qualquer parte do nosso código\n",
    "\n",
    "def SomaDoisNumeros(x,y):\n",
    "    resultado = x + y   #estamos a utilizar a variável global ou a criar uma nova?\n",
    "    print(resultado) # não dá erro porque a variável é global\n",
    "\n",
    "SomaDoisNumeros(10,5)\n",
    "print(resultado)   #variável é global"
   ]
  },
  {
   "cell_type": "markdown",
   "metadata": {},
   "source": [
    "Mas depois temos problemas como este:"
   ]
  },
  {
   "cell_type": "code",
   "execution_count": null,
   "metadata": {},
   "outputs": [],
   "source": [
    "#variáveis globais\n",
    "resultado = 0\n",
    "x=10\n",
    "y=5\n",
    "\n",
    "def SomaDoisNumeros():\n",
    "    resultado = x + y   #estamos a utilizar as variáveis globais?\n",
    "    print(resultado) # não dá erro porque a variável é global\n",
    "    x=0 #esta linha provoca um erro porque x passa a ser local! (obrigado Python)\n",
    "\n",
    "SomaDoisNumeros()\n",
    "print(resultado)"
   ]
  },
  {
   "cell_type": "markdown",
   "metadata": {},
   "source": [
    "O erro ocorre porque o Python deteta que estamos a alterar o valor da variável X e então cria uma variável local com o mesmo nome da variável global, se o que pretendemos é mesmo alterar a variável global temos de alterar o código:"
   ]
  },
  {
   "cell_type": "code",
   "execution_count": null,
   "metadata": {},
   "outputs": [],
   "source": [
    "soma = 0 #esta variável é global assim é possível utiliza-la em qualquer parte do nosso código\n",
    "\n",
    "def SomaDoisNumeros(x,y):\n",
    "    global soma # assim indicamos que a variável soma que vamos utilizar dentro da função é a variável global\n",
    "    soma = x + y   #estamos a utilizar a variável global\n",
    "    print(soma) # não dá erro porque a variável é global\n",
    "\n",
    "SomaDoisNumeros(5,10)\n",
    "print(soma)   #variável é global"
   ]
  },
  {
   "cell_type": "markdown",
   "metadata": {},
   "source": [
    "A instrução **global** indica que a variável que vai utilizada é a variável global e assim não é criada uma variável local dentro da função."
   ]
  },
  {
   "cell_type": "markdown",
   "metadata": {},
   "source": [
    "### A utilização de variáveis globais deve ser limitada pois cria código mais complicado de perceber e de manter!"
   ]
  },
  {
   "cell_type": "markdown",
   "metadata": {},
   "source": [
    "# Call Stack"
   ]
  },
  {
   "cell_type": "markdown",
   "metadata": {},
   "source": [
    "Nesta parte vamos tentar perceber, com maior detalhe, como é que as funções são executadas pelo computador."
   ]
  },
  {
   "cell_type": "markdown",
   "metadata": {},
   "source": [
    "Como já vimos ao chamar uma função a execução salta para dentro da função e o código desta é executado. E este principio aplicação da mesma forma se dentro da função for chamada outra função."
   ]
  },
  {
   "cell_type": "code",
   "execution_count": null,
   "metadata": {},
   "outputs": [],
   "source": [
    "variavel_global=10\n",
    "\n",
    "def FuncaoA():\n",
    "    variavel_local_funcao_a=5\n",
    "    print(\"Esta é a função A\")\n",
    "\n",
    "def FuncaoB():\n",
    "    variavel_local_funcao_b=15\n",
    "    print(\"Inicio da função B\")\n",
    "    FuncaoA()\n",
    "    print(\"Fim da função B\")\n",
    "\n",
    "print(\"No programa principal\")\n",
    "FuncaoA()\n",
    "print(\"No programa principal\")\n",
    "FuncaoB()\n",
    "print(\"No programa principal\")\n"
   ]
  },
  {
   "cell_type": "markdown",
   "metadata": {},
   "source": [
    "Sempre que uma função é chamada é criado um espaço de memória denominado de frame. É nesta frame de memória que são criadas as variáveis locais. Ao concluir a execução da função esta frame é apagada e toda a informação que tinha perde-se."
   ]
  },
  {
   "cell_type": "markdown",
   "metadata": {},
   "source": [
    "Cada frame é criada e gerida pelo computador como se de uma pilha (stack) de pratos de trata-se, em que o último prato colocado na pilha é sempre o primeiro a ser retirado, é por isso que, no código exemplo, ao chamar a FuncaoA dentro da FuncaoB estamo a colocar nessa pilha"
   ]
  },
  {
   "cell_type": "markdown",
   "metadata": {},
   "source": [
    "[Demonstração da call stack](https://github.com/alunosnet/PSI_2023_24_M03_Notebook/blob/main/M%C3%B3dulo%2003%20-%20Call%20stack.pdf)"
   ]
  },
  {
   "cell_type": "markdown",
   "metadata": {},
   "source": [
    "# Módulos"
   ]
  },
  {
   "cell_type": "markdown",
   "metadata": {},
   "source": [
    "Agora que já sabemos criar funções podemos criar os nossos próprios módulos de funções e importar para os nossos programas e assim maximizar a reutilização do código."
   ]
  },
  {
   "cell_type": "markdown",
   "metadata": {},
   "source": [
    "Vamos criar um módulo com duas funções"
   ]
  },
  {
   "cell_type": "code",
   "execution_count": null,
   "metadata": {},
   "outputs": [],
   "source": [
    "%%writefile meu_modulo.py\n",
    "\n",
    "def saudacao(nome):\n",
    "    return f\"Olá, {nome}!\"\n",
    "\n",
    "def soma(a, b):\n",
    "    return a + b\n"
   ]
  },
  {
   "cell_type": "markdown",
   "metadata": {},
   "source": [
    "Agora para utilizar este módulo temos de o importar"
   ]
  },
  {
   "cell_type": "code",
   "execution_count": null,
   "metadata": {},
   "outputs": [],
   "source": [
    "import meu_modulo #importação do módulo\n",
    "\n",
    "resultado = meu_modulo.soma(10, 5)\n",
    "print(resultado)  # Saída: 15\n",
    "\n",
    "mensagem = meu_modulo.saudacao(\"Maria\")\n",
    "print(mensagem)  # Saída: Olá, Maria!\n"
   ]
  },
  {
   "cell_type": "markdown",
   "metadata": {},
   "source": [
    "## Instalar módulos antes de importar"
   ]
  },
  {
   "cell_type": "markdown",
   "metadata": {},
   "source": [
    "Alguns módulos são disponibilizados em repositórios e têm de ser instalados no nosso computador antes de serem importados para o programa."
   ]
  },
  {
   "cell_type": "markdown",
   "metadata": {},
   "source": [
    "Para instalar módulos utiliza-se a ferramente *pip*"
   ]
  },
  {
   "cell_type": "markdown",
   "metadata": {},
   "source": [
    "Por exemplo, um módulo que pode ser útil é o termcolor que permite a utilização de texto com cores no terminal."
   ]
  },
  {
   "cell_type": "markdown",
   "metadata": {},
   "source": [
    "Para instalar o módulo no computador executamos o comando: **pip install termcolor**"
   ]
  },
  {
   "cell_type": "markdown",
   "metadata": {},
   "source": [
    "Depois já podemos importar:"
   ]
  },
  {
   "cell_type": "code",
   "execution_count": null,
   "metadata": {},
   "outputs": [],
   "source": [
    "from termcolor import colored\n",
    "\n",
    "def imprimir_texto_cor(texto, cor):\n",
    "    print(colored(texto, cor))\n",
    "\n",
    "imprimir_texto_cor(\"Olá, mundo!\", \"green\")\n",
    "imprimir_texto_cor(\"Olá, mundo!\", \"red\")"
   ]
  },
  {
   "cell_type": "markdown",
   "metadata": {},
   "source": [
    "# Recursividade"
   ]
  },
  {
   "cell_type": "markdown",
   "metadata": {},
   "source": [
    "Uma função recursiva é aquela que se chama a si mesma para resolver uma versão menor do problema. Na prática é um ciclo sem utilizar as instruções **for** ou **while**. Ao chamar a função dentro do seu próprio código estamos a promover a repetição da sua execução."
   ]
  },
  {
   "cell_type": "markdown",
   "metadata": {},
   "source": [
    "Um aspeto fundamental do código de uma função recursiva é a condição para parar de se chamar a si própria. É o caso base. Sem esta condição criamos um ciclo infinito de chamadas à função que resulta num erro de Stack Overflow, em que esgotamos o limite de chamadas máximas da stack de execução do programa."
   ]
  },
  {
   "cell_type": "markdown",
   "metadata": {},
   "source": [
    "**Exemplo:** Uma função que calcula a exponenciação. Os parâmetros são o valor da base e do expoente. Como condição de paragem podemos definir o caso base em que o expoente é 1 que, como de certo sabe, resulta no valor da base, ou seja, qualquer valor elevado a 1 dá o próprio valor.\n"
   ]
  },
  {
   "cell_type": "markdown",
   "metadata": {},
   "source": [
    "Assim para resolver 2^4 podemos dizer que é igual a 2 * 2^3"
   ]
  },
  {
   "cell_type": "markdown",
   "metadata": {},
   "source": [
    " Por sua vez 2^3 é 2 * 2^2 e assim sucessivamente. "
   ]
  },
  {
   "cell_type": "code",
   "execution_count": null,
   "metadata": {},
   "outputs": [],
   "source": [
    "def Expoente(base,expoente):\n",
    "    #Condição de paragem\n",
    "    if expoente==1:\n",
    "        return base\n",
    "    else:\n",
    "        #recursividade: a função chama-se a si própria\n",
    "        return base*Expoente(base,expoente-1)\n",
    "\n",
    "print(Expoente(2,4))"
   ]
  },
  {
   "cell_type": "markdown",
   "metadata": {},
   "source": [
    "# Funções com yield"
   ]
  },
  {
   "cell_type": "markdown",
   "metadata": {},
   "source": [
    "As funções são blocos de código em que as variáveis sáo destruídas quando a execução da função termina, por isso não guardam o estado entre chamadas da mesma função."
   ]
  },
  {
   "cell_type": "markdown",
   "metadata": {},
   "source": [
    "No entanto podemos colocar a execução de uma função num estado de pausa, em que a execução é interrompida até que seja novamente chamada."
   ]
  },
  {
   "cell_type": "code",
   "execution_count": null,
   "metadata": {},
   "outputs": [],
   "source": [
    "def gerar_pares(limite):\n",
    "    n = 0\n",
    "    while n <= limite:\n",
    "        yield n     # interrompe a execução e devolve o valor de n\n",
    "        #na próxima vez que a função é chamada continua na linha seguinte\n",
    "        #à instrução yield\n",
    "        n += 2\n",
    "\n",
    "# Usando o gerador\n",
    "for numero_par in gerar_pares(10):\n",
    "    print(numero_par)\n"
   ]
  },
  {
   "cell_type": "markdown",
   "metadata": {},
   "source": [
    "## Módulos do Python"
   ]
  },
  {
   "cell_type": "markdown",
   "metadata": {},
   "source": [
    "O Python tem um grande número de módulos que podem ser importados para os nossos programas. Alguns destes já fazem parte da estrutura base da linguagem enquanto que outros têm de ser instalados utilizando a ferramenta pip."
   ]
  },
  {
   "cell_type": "markdown",
   "metadata": {},
   "source": [
    "### Módulo SYS"
   ]
  },
  {
   "cell_type": "markdown",
   "metadata": {},
   "source": [
    "O módulo **sys** é um dos módulos incorporados (não requer instalação) e que fornece acesso a algumas funções e variáveis que dizem respeito ao interpretador do Python."
   ]
  },
  {
   "cell_type": "markdown",
   "metadata": {},
   "source": [
    "1. **sys.argv**: Lista de strings que contém os argumentos da linha de comando passados para um script Python. **arg[0]** é o nome do script."
   ]
  },
  {
   "cell_type": "markdown",
   "metadata": {},
   "source": [
    "2. **sys.exit()**: Permite interromper a execução de um script Python e terminar a sua execução retornando ao ambiente da linha de comandos do shell. Opcionalmente pode ser indicado um código de interrupção."
   ]
  },
  {
   "cell_type": "markdown",
   "metadata": {},
   "source": [
    "3. **sys.path**: Lista de caminhos para as pastas onde o Python procura por módulos a serem importados."
   ]
  },
  {
   "cell_type": "markdown",
   "metadata": {},
   "source": [
    "4. **sys.stdin**, **sys.stdout**, **sys.stderr**: Objetos que correspondem à entrada e saída padrão e ainda à saída de erros do Python."
   ]
  },
  {
   "cell_type": "markdown",
   "metadata": {},
   "source": [
    "5. **sys.version**: String que indica a versão do interpretador Python."
   ]
  },
  {
   "cell_type": "markdown",
   "metadata": {},
   "source": [
    "6. **sys.platform**: String que indica a plataforma em que o Python está a ser executado."
   ]
  },
  {
   "cell_type": "markdown",
   "metadata": {},
   "source": [
    "7. **sys.modules**: Dicionário que relaciona os nomes dos módulos importados com os módulos em si. Permite verificar que módulos já foram importados."
   ]
  },
  {
   "cell_type": "markdown",
   "metadata": {},
   "source": [
    "8. **sys.executable**: Um string que representa o caminho para o executável do interpretador Python."
   ]
  },
  {
   "cell_type": "markdown",
   "metadata": {},
   "source": [
    "## Módulo OS"
   ]
  },
  {
   "cell_type": "markdown",
   "metadata": {},
   "source": [
    "O módulo **OS** do Python permite ter acesso a funcionalidades e funções do sistema operativo."
   ]
  },
  {
   "cell_type": "markdown",
   "metadata": {},
   "source": [
    "1. **os.name**: String com o nome do Sistema Operativo"
   ]
  },
  {
   "cell_type": "markdown",
   "metadata": {},
   "source": [
    "2. **os.getcwd()**: String com o caminho para a pasta atual."
   ]
  },
  {
   "cell_type": "markdown",
   "metadata": {},
   "source": [
    "3. **os.chdir(caminho)**: Muda a pasta atual para o caminho indicado."
   ]
  },
  {
   "cell_type": "markdown",
   "metadata": {},
   "source": [
    "4. **os.listdir(caminho='.'): Devolve a lista dos ficheiros e pastas do caminho indicado."
   ]
  },
  {
   "cell_type": "markdown",
   "metadata": {},
   "source": [
    "5. **os.mkdir(caminho, mode=0o777)**: Cria uma pasta com o caminho indicado"
   ]
  },
  {
   "cell_type": "markdown",
   "metadata": {},
   "source": [
    "6. **os.makedirs(caminho, mode=0o777, exist_ok=False)**: Cria uma pasta recursivamente, incluindo as pastas necessárias."
   ]
  },
  {
   "cell_type": "markdown",
   "metadata": {},
   "source": [
    "7. ***os.rmdir(caminho)**: Apaga uma pasta vazia."
   ]
  },
  {
   "cell_type": "markdown",
   "metadata": {},
   "source": [
    "8. **os.removedirs(caminho)**: Apaga uma pasta recursivamente, incluindo as pastas intermediárias se vazias."
   ]
  },
  {
   "cell_type": "markdown",
   "metadata": {},
   "source": [
    "9. **os.remove(caminho)** ou **os.unlink(caminho)**: Remove um ficheiro."
   ]
  },
  {
   "cell_type": "markdown",
   "metadata": {},
   "source": [
    "10. **os.rename(origem,destino)**: Altera o nome de um ficheiro."
   ]
  },
  {
   "cell_type": "markdown",
   "metadata": {},
   "source": [
    "11. **os.stat(caminho)**: Obtém informações sobre o ficheiro ou pasta indicados (tamanho, data de modificação, etc)"
   ]
  },
  {
   "cell_type": "markdown",
   "metadata": {},
   "source": [
    "12. **os.environ**: Dicionário com as variáveis de ambiente."
   ]
  },
  {
   "cell_type": "markdown",
   "metadata": {},
   "source": [
    "13. **os.system(comando)**: Executa um comando na shell do sistema operativo."
   ]
  },
  {
   "cell_type": "markdown",
   "metadata": {},
   "source": [
    "14. **os.path**: Módulo dentro do módulo OS que fornece funções para manipulação de caminhos de ficheiros, como **os.path.join**, **os.path.split**, **os.path.exists**, **os.path.isdir**, **os.path.isfile**, etc"
   ]
  },
  {
   "cell_type": "markdown",
   "metadata": {},
   "source": [
    "## Módulo math"
   ]
  },
  {
   "cell_type": "markdown",
   "metadata": {},
   "source": [
    "1. **Funções de Trigonometria**: **sin(x)**, **cos(x)**, **tan(x)**, **asin(x)**, **acos(x)**, **atan(x)**"
   ]
  },
  {
   "cell_type": "markdown",
   "metadata": {},
   "source": [
    "2. **Conversão de ângulos**: **radians(x)** e **degrees(x)**"
   ]
  },
  {
   "cell_type": "markdown",
   "metadata": {},
   "source": [
    "3. **Funções hiperbólicas**: **sinh(x)**, **cosh(x)**, **tanh(x)**, **asinh(x)**, **acosh(x)**, **atanh(x)**"
   ]
  },
  {
   "cell_type": "markdown",
   "metadata": {},
   "source": [
    "4. **Exponenciação e logaritmos**: **exp(x), log(x[,base]), log2(x), log10(x)**"
   ]
  },
  {
   "cell_type": "markdown",
   "metadata": {},
   "source": [
    "5. **Potências e raiz quadrada**: **pow(x,y)**, **sqrt(x)**"
   ]
  },
  {
   "cell_type": "markdown",
   "metadata": {},
   "source": [
    "6. **Constantes matemáticas**: **pi**, **e**, **tau** (2pi), **inf** (infinito) **nan** (Not A Number)"
   ]
  },
  {
   "cell_type": "markdown",
   "metadata": {},
   "source": [
    "7. **Arredondamento e absoluto**: **ceil(x)** arredonda para cima, **floor(x)** arredonda para baixo e **fabs(x)** valor absoluto"
   ]
  },
  {
   "cell_type": "markdown",
   "metadata": {},
   "source": [
    "8. **Funções especiais**: **factorial(x)** para calcular o fatorial de um nº, **gdc(x,y)** para o máximo divisor comum, **isclose(a,b)** para verificar se dois valores são aproximadamente iguais."
   ]
  },
  {
   "cell_type": "markdown",
   "metadata": {},
   "source": [
    "## Módulo datetime"
   ]
  },
  {
   "cell_type": "markdown",
   "metadata": {},
   "source": [
    "Este módulo permite manipular datas e horários."
   ]
  },
  {
   "cell_type": "markdown",
   "metadata": {},
   "source": [
    "1. **Classes de datas e horários**: \n",
    "- **datetime.date**: Representa uma data (ano, mês, dia)\n",
    "- **datetime.time**: Representa um horário (hora, minuto, segundo, microssegundo)\n",
    "- **datetime.datetime**: Combina uma data e um horário\n",
    "- **datetime.timedelta**: Representa uma duração, ou seja, a diferença entre duas datas ou dois tempos."
   ]
  },
  {
   "cell_type": "markdown",
   "metadata": {},
   "source": [
    "2. **Funções Úteis**:\n",
    "- **datetime.now()**: Data e hora atual\n",
    "- **datetime.today()**: Data atual\n",
    "- **datetime.combine(date, time)**: Cria um objeto datetime combinando um objeto date e um time\n",
    "- **datetime.strptime(date_string, format)**: Converte uma string de uma data/hora para um objeto datetime"
   ]
  },
  {
   "cell_type": "markdown",
   "metadata": {},
   "source": [
    "3. **Formatar e analisar datas**: As funções **strftime(formato)** e **strptime(data_string, formato)** são utilizadas para formatar datas. **strftime** converte um objeto date/hora numa string enquanto que a função **strptime** converte uma string num objeto."
   ]
  },
  {
   "cell_type": "markdown",
   "metadata": {},
   "source": [
    "4. **Atributos e métodos das classes**: Os objetos date e time têm várias propriedades como **year**, **month**, **day**, **hour**, **minute**, **second** e **wekkday()**"
   ]
  },
  {
   "cell_type": "markdown",
   "metadata": {},
   "source": [
    "## Módulo Random"
   ]
  },
  {
   "cell_type": "markdown",
   "metadata": {},
   "source": [
    "Este módulo permite gerar números pseudoaleatórios."
   ]
  },
  {
   "cell_type": "markdown",
   "metadata": {},
   "source": [
    "1. **random.seed(a=None, version=2)**: inicializa o gerador de números aleatórios."
   ]
  },
  {
   "cell_type": "markdown",
   "metadata": {},
   "source": [
    "2. **random.random()**: Gera um número aleatório entre 0,0 e 1,0"
   ]
  },
  {
   "cell_type": "markdown",
   "metadata": {},
   "source": [
    "3. **random.uniform(a,b)**: Gera um número aleatório entre a e b (inclusive)"
   ]
  },
  {
   "cell_type": "markdown",
   "metadata": {},
   "source": [
    "4. **random.randint(a,b)**: Gera um número inteiro entre a e b (inclusive)"
   ]
  }
 ],
 "metadata": {
  "kernelspec": {
   "display_name": "Python 3",
   "language": "python",
   "name": "python3"
  },
  "language_info": {
   "codemirror_mode": {
    "name": "ipython",
    "version": 3
   },
   "file_extension": ".py",
   "mimetype": "text/x-python",
   "name": "python",
   "nbconvert_exporter": "python",
   "pygments_lexer": "ipython3",
   "version": "3.12.2"
  },
  "polyglot_notebook": {
   "kernelInfo": {
    "defaultKernelName": "csharp",
    "items": [
     {
      "aliases": [],
      "name": "csharp"
     }
    ]
   }
  }
 },
 "nbformat": 4,
 "nbformat_minor": 2
}
